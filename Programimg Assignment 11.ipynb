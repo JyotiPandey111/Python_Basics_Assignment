{
 "cells": [
  {
   "attachments": {},
   "cell_type": "markdown",
   "metadata": {},
   "source": [
    "# Programmimng Assignment 11\n",
    "1. Write a Python program to find words which are greater than given length k?\n",
    "2. Write a Python program for removing i-th character from a string?\n",
    "3. Write a Python program to split and join a string?\n",
    "4. Write a Python to check if a given string is binary string or not?\n",
    "5. Write a Python program to find uncommon words from two Strings?\n",
    "6. Write a Python to find all duplicate characters in string?\n",
    "7. Write a Python Program to check if a string contains any special character?"
   ]
  },
  {
   "cell_type": "code",
   "execution_count": 2,
   "metadata": {},
   "outputs": [
    {
     "name": "stdout",
     "output_type": "stream",
     "text": [
      "Length of the list entered by user is: 8\n",
      "List is created successfully.\n",
      "mylist = ['this', 'function', 'creates', '1', 'list', 'from', 'user', 'input']\n"
     ]
    }
   ],
   "source": [
    "def create_list():\n",
    "    '''\n",
    "    This function creates a list from user input\n",
    "    '''\n",
    "    try:\n",
    "        mylist = []\n",
    "        n = 0\n",
    "        n = int(input(\"Enter the length of the list you want to create: \"))\n",
    "        print(f\"Length of the list entered by user is: {n}\")\n",
    "        while n>0:\n",
    "            mylist.append(str(input(\"Enter strings of elements : \")))\n",
    "            n = n-1\n",
    "\n",
    "    except:\n",
    "        if n <0:\n",
    "            print(\"Please enter a positive number\")\n",
    "        print(\"Please enter a string value only for the list elements.\")\n",
    "    \n",
    "    else:\n",
    "        print(f\"List is created successfully.\")\n",
    "    return(mylist)\n",
    "\n",
    "\n",
    "#driver code\n",
    "mylist = create_list()\n",
    "print(f\"mylist = {mylist}\")\n",
    "\n"
   ]
  },
  {
   "cell_type": "markdown",
   "metadata": {},
   "source": [
    "1. Write a Python program to find words which are greater than given length k?"
   ]
  },
  {
   "cell_type": "code",
   "execution_count": 13,
   "metadata": {},
   "outputs": [
    {
     "name": "stdout",
     "output_type": "stream",
     "text": [
      "we will find elements of length 3 in the list\n",
      "Elements with length 3 are found successfully.\n",
      "List of elements with k length from\n",
      "['this', 'function', 'creates', '1', 'list', 'from', 'user', 'input'] are :   ['this', 'function', 'creates', 'list', 'from', 'user', 'input']\n"
     ]
    }
   ],
   "source": [
    "def words_k(mylist):\n",
    "    '''\n",
    "    This function finds the words which are greater than k \n",
    "    '''\n",
    "    try:  \n",
    "        s = []\n",
    "        k = int(input(\"Enter the length of the elements want to find: \"))\n",
    "        print(f\"we will find elements of length {k} in the list\")\n",
    "        for i in mylist:\n",
    "            if len(i)> k:\n",
    "                s.append(i)\n",
    "        \n",
    "    except Exception as e:\n",
    "        print(f\"Error is: {e}\")\n",
    "    else:\n",
    "        print(f\"Elements with length {k} are found successfully.\")\n",
    "    return (s)\n",
    "\n",
    "\n",
    "\n",
    "#driver code\n",
    "words = words_k(mylist)\n",
    "print(f\"List of elements with k length from\\n{mylist} are :   {words}\")\n"
   ]
  },
  {
   "cell_type": "markdown",
   "metadata": {},
   "source": [
    "2. Write a Python program for removing i-th character from a string?"
   ]
  },
  {
   "cell_type": "code",
   "execution_count": 66,
   "metadata": {},
   "outputs": [
    {
     "name": "stdout",
     "output_type": "stream",
     "text": [
      "Error is: invalid literal for int() with base 10: 'e'\n",
      "New string is : \n"
     ]
    }
   ],
   "source": [
    "def words_i(mystring):\n",
    "    '''\n",
    "    This function for removing i-th character from a string \n",
    "    '''\n",
    "    try:  \n",
    "        s = ''\n",
    "        i = int(input(f\"Enter the position 0 to {(len(mystring)-1)} want to remove from string : \"))\n",
    "        if i < len(mystring):\n",
    "            print(f\"we will remove {i}-th character from a string\")\n",
    "            s = mystring[0:i]+mystring[i+1:]\n",
    "        print(f\"{i}-th character '{mystring[i]}' removed successfully from string '{mystring}'.\")\n",
    "            \n",
    "    except IndexError as I:\n",
    "        print(f\"Error is: {I}. Please enter the position between 0 to {(len(mystring)-1)} string is of length {(len(mystring))}\")\n",
    "\n",
    "    except Exception as e:\n",
    "        print(f\"Error is: {e}\")\n",
    "    \n",
    "    return (s)\n",
    "\n",
    "\n",
    "\n",
    "#driver code\n",
    "print(f\"New string is : {words_i('AbCDefgh')}\")\n"
   ]
  },
  {
   "cell_type": "code",
   "execution_count": null,
   "metadata": {},
   "outputs": [],
   "source": []
  },
  {
   "cell_type": "markdown",
   "metadata": {},
   "source": [
    "> 3. Write a Python program to split and join a string?\n"
   ]
  },
  {
   "cell_type": "code",
   "execution_count": 65,
   "metadata": {},
   "outputs": [
    {
     "name": "stdout",
     "output_type": "stream",
     "text": [
      "Split 'AbCDefgh' by 'e'.\n",
      "eAbCD\n",
      "eAbCDefgh\n",
      "Output is : ['AbCD', 'fgh']\n"
     ]
    }
   ],
   "source": [
    "def word_j(mystring):\n",
    "    try:  \n",
    "        s = []\n",
    "        v = \"\"\n",
    "        i = (input(f\"Enter the character on which split is going to be performed on {mystring}: \"))\n",
    "        s = mystring.split(i)\n",
    "        print(f\"Split '{mystring}' by '{i}'.\")\n",
    "        for e in s:\n",
    "            v =v+i+e\n",
    "            print (v)\n",
    "            \n",
    "    except Exception as e:\n",
    "        print(f\"Error is: {e}\")\n",
    "    \n",
    "    return (s)\n",
    "\n",
    "\n",
    "\n",
    "#driver code\n",
    "g =word_j('AbCDefgh')\n",
    "print(f\"Output is : {g}\")\n"
   ]
  },
  {
   "cell_type": "code",
   "execution_count": null,
   "metadata": {},
   "outputs": [],
   "source": [
    "4. Write a Python to check if a given string is binary string or not?\n"
   ]
  },
  {
   "cell_type": "code",
   "execution_count": null,
   "metadata": {},
   "outputs": [],
   "source": []
  },
  {
   "cell_type": "code",
   "execution_count": null,
   "metadata": {},
   "outputs": [],
   "source": [
    "5. Write a Python program to find uncommon words from two Strings?\n",
    "\n"
   ]
  },
  {
   "cell_type": "code",
   "execution_count": null,
   "metadata": {},
   "outputs": [],
   "source": []
  },
  {
   "cell_type": "code",
   "execution_count": null,
   "metadata": {},
   "outputs": [],
   "source": [
    "6. Write a Python to find all duplicate characters in string?\n"
   ]
  },
  {
   "cell_type": "code",
   "execution_count": null,
   "metadata": {},
   "outputs": [],
   "source": []
  },
  {
   "cell_type": "code",
   "execution_count": null,
   "metadata": {},
   "outputs": [],
   "source": [
    "7. Write a Python Program to check if a string contains any special character?"
   ]
  }
 ],
 "metadata": {
  "kernelspec": {
   "display_name": "base",
   "language": "python",
   "name": "python3"
  },
  "language_info": {
   "codemirror_mode": {
    "name": "ipython",
    "version": 3
   },
   "file_extension": ".py",
   "mimetype": "text/x-python",
   "name": "python",
   "nbconvert_exporter": "python",
   "pygments_lexer": "ipython3",
   "version": "3.9.12"
  },
  "orig_nbformat": 4
 },
 "nbformat": 4,
 "nbformat_minor": 2
}
