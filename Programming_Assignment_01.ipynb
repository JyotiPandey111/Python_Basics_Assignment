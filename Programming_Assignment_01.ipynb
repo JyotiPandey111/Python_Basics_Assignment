{
 "cells": [
  {
   "cell_type": "markdown",
   "id": "2408c4e7",
   "metadata": {},
   "source": [
    "# Programming Assignment 1"
   ]
  },
  {
   "cell_type": "markdown",
   "id": "065c61ff",
   "metadata": {},
   "source": [
    "1.\tWrite a Python program to print \"Hello Python\"?\n",
    "2.\tWrite a Python program to do arithmetical operations addition and division.?\n",
    "3.\tWrite a Python program to find the area of a triangle?\n",
    "4.\tWrite a Python program to swap two variables?\n",
    "5.\tWrite a Python program to generate a random number?\n"
   ]
  },
  {
   "cell_type": "markdown",
   "id": "243b6e67",
   "metadata": {},
   "source": [
    "### 1.\tWrite a Python program to print \"Hello Python\"?"
   ]
  },
  {
   "cell_type": "code",
   "execution_count": 2,
   "id": "9c372e71",
   "metadata": {},
   "outputs": [
    {
     "name": "stdout",
     "output_type": "stream",
     "text": [
      "Hello Python\n"
     ]
    }
   ],
   "source": [
    "print(\"Hello Python\")"
   ]
  },
  {
   "cell_type": "markdown",
   "id": "f4c5eea2",
   "metadata": {},
   "source": [
    "### 2.\tWrite a Python program to do arithmetical operations addition and division.?"
   ]
  },
  {
   "cell_type": "code",
   "execution_count": 9,
   "id": "8417bc84",
   "metadata": {},
   "outputs": [
    {
     "name": "stdout",
     "output_type": "stream",
     "text": [
      "Enter a number: 10\n",
      "Enter b number: 2\n",
      "The addition of a and b is 12\n",
      "The division of a and b is 5.0\n"
     ]
    }
   ],
   "source": [
    "a = int(input(\"Enter a number: \"))\n",
    "b = int(input(\"Enter b number: \"))\n",
    "add = a+b\n",
    "div = a/b\n",
    "print(\"The addition of a and b is {}\".format(add))\n",
    "print(\"The division of a and b is {}\".format(div))"
   ]
  },
  {
   "cell_type": "markdown",
   "id": "561c378a",
   "metadata": {},
   "source": [
    "### 3.\tWrite a Python program to find the area of a triangle?"
   ]
  },
  {
   "cell_type": "code",
   "execution_count": 10,
   "id": "229e0d79",
   "metadata": {},
   "outputs": [
    {
     "name": "stdout",
     "output_type": "stream",
     "text": [
      "Enter the height of the triangle in cm: 10\n",
      "Enter the base of the triangle in cm: 4\n",
      "The area of the triangle is 20.0\n"
     ]
    }
   ],
   "source": [
    "h = int(input(\"Enter the height of the triangle in cm: \"))\n",
    "b = int(input(\"Enter the base of the triangle in cm: \"))\n",
    "area = .5*h*b\n",
    "print(\"The area of the triangle is {}\".format(area))"
   ]
  },
  {
   "cell_type": "markdown",
   "id": "d9772a59",
   "metadata": {},
   "source": [
    "### 4.\tWrite a Python program to swap two variables?"
   ]
  },
  {
   "cell_type": "code",
   "execution_count": 13,
   "id": "338997c9",
   "metadata": {},
   "outputs": [
    {
     "name": "stdout",
     "output_type": "stream",
     "text": [
      "Enter a number: 1\n",
      "Enter b number: 4\n",
      "The value of a is 1\n",
      "The value of b is 4\n",
      "The value of a after swapping is 4\n",
      "The value of b after swapping is 1\n"
     ]
    }
   ],
   "source": [
    "a = int(input(\"Enter a number: \"))\n",
    "b = int(input(\"Enter b number: \"))\n",
    "print(\"The value of a is {}\".format(a))\n",
    "print(\"The value of b is {}\".format(b))\n",
    "\n",
    "# swapping the values of two variables\n",
    "c= 0\n",
    "c = a\n",
    "a = b\n",
    "b = c\n",
    "\n",
    "print(\"The value of a after swapping is {}\".format(a))\n",
    "print(\"The value of b after swapping is {}\".format(b))"
   ]
  },
  {
   "cell_type": "markdown",
   "id": "2571ebfa",
   "metadata": {},
   "source": [
    "### 5.\tWrite a Python program to generate a random number?\n"
   ]
  },
  {
   "cell_type": "markdown",
   "id": "f7469fa4",
   "metadata": {},
   "source": [
    "* Signature: random.randint(a, b)\n",
    "* Docstring: Return random integer in range [a, b], including both end points.\n",
    "* File:      c:\\users\\hp\\anaconda3\\lib\\random.py\n",
    "* Type:      method"
   ]
  },
  {
   "cell_type": "code",
   "execution_count": 17,
   "id": "fa23c1e6",
   "metadata": {},
   "outputs": [
    {
     "name": "stdout",
     "output_type": "stream",
     "text": [
      "6\n"
     ]
    }
   ],
   "source": [
    "# importing the random module\n",
    "import random\n",
    "\n",
    "print(random.randint(1,10))     "
   ]
  }
 ],
 "metadata": {
  "kernelspec": {
   "display_name": "Python 3 (ipykernel)",
   "language": "python",
   "name": "python3"
  },
  "language_info": {
   "codemirror_mode": {
    "name": "ipython",
    "version": 3
   },
   "file_extension": ".py",
   "mimetype": "text/x-python",
   "name": "python",
   "nbconvert_exporter": "python",
   "pygments_lexer": "ipython3",
   "version": "3.9.7"
  }
 },
 "nbformat": 4,
 "nbformat_minor": 5
}
