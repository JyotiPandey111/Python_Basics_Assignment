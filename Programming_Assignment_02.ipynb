{
 "cells": [
  {
   "cell_type": "markdown",
   "id": "75eb94a1",
   "metadata": {},
   "source": [
    "# Programming Assignment 2\n",
    "\n",
    "\n",
    "1.\tWrite a Python program to convert kilometers to miles?\n",
    "2.\tWrite a Python program to convert Celsius to Fahrenheit?\n",
    "3.\tWrite a Python program to display calendar?\n",
    "4.\tWrite a Python program to solve quadratic equation?\n",
    "5.\tWrite a Python program to swap two variables without temp variable?\n",
    "\n"
   ]
  },
  {
   "cell_type": "markdown",
   "id": "95d34cc4",
   "metadata": {},
   "source": [
    "### 1.\tWrite a Python program to convert kilometers to miles?"
   ]
  },
  {
   "cell_type": "code",
   "execution_count": 8,
   "id": "ce8a6611",
   "metadata": {},
   "outputs": [
    {
     "name": "stdout",
     "output_type": "stream",
     "text": [
      "Enter the distance in Kilometers: 10.2\n",
      "The distance in miles is: 6.337973999999999\n"
     ]
    }
   ],
   "source": [
    "km = float(input(\"Enter the distance in Kilometers: \"))\n",
    "\n",
    "# The conversion factor used to convert kilometers to miles is 0.62137 because:  1 kilometer (km) = 0.62137 miles (mi)\n",
    "conversion_factor = 0.62137\n",
    "miles = km * conversion_factor\n",
    "\n",
    "print(\"The distance in miles is: {}\".format(miles))"
   ]
  },
  {
   "cell_type": "markdown",
   "id": "5d51e0b1",
   "metadata": {},
   "source": [
    "### 2.\tWrite a Python program to convert Celsius to Fahrenheit?"
   ]
  },
  {
   "cell_type": "code",
   "execution_count": 13,
   "id": "c408b336",
   "metadata": {},
   "outputs": [
    {
     "name": "stdout",
     "output_type": "stream",
     "text": [
      "Enter the temperature in Celsius: 10\n",
      "The tempearture in fahrenheit is: 50.0\n"
     ]
    }
   ],
   "source": [
    "c = float(input(\"Enter the temperature in Celsius: \"))\n",
    "\n",
    "# To convert temperatures in degrees Celsius to Fahrenheit, multiply by 1.8 (or 9/5) and add 32.\n",
    "f = (c*1.8)+32\n",
    "\n",
    "print(\"The tempearture in fahrenheit is: {}\".format(f))"
   ]
  },
  {
   "cell_type": "markdown",
   "id": "e844722d",
   "metadata": {},
   "source": [
    "### 3.\tWrite a Python program to display calendar?\n",
    "\n",
    "\n",
    "* Signature: calendar.month(theyear, themonth, w=0, l=0)\n",
    "* Docstring: Return a month's calendar string (multi-line).\n",
    "* File:      c:\\users\\hp\\anaconda3\\lib\\calendar.py\n",
    "* Type:      method"
   ]
  },
  {
   "cell_type": "code",
   "execution_count": 17,
   "id": "aa0f61e6",
   "metadata": {},
   "outputs": [
    {
     "name": "stdout",
     "output_type": "stream",
     "text": [
      "Enter the year you want to see: 2022\n",
      "Enter the month: 5\n",
      "      May 2022\n",
      "Mo Tu We Th Fr Sa Su\n",
      "                   1\n",
      " 2  3  4  5  6  7  8\n",
      " 9 10 11 12 13 14 15\n",
      "16 17 18 19 20 21 22\n",
      "23 24 25 26 27 28 29\n",
      "30 31\n",
      "\n"
     ]
    }
   ],
   "source": [
    "# importing calendar module\n",
    "import calendar\n",
    "\n",
    "# To take month and year input from the user\n",
    "year = int(input(\"Enter the year you want to see: \"))\n",
    "month = int(input(\"Enter the month: \"))\n",
    "\n",
    "# display the calendar\n",
    "print(calendar.month(year, month))"
   ]
  },
  {
   "cell_type": "markdown",
   "id": "c5289c9d",
   "metadata": {},
   "source": [
    "### 4.\tWrite a Python program to solve quadratic equation?\n",
    "\n",
    "* The standard form of a quadratic equation is:\n",
    "    - ax2 + bx + c = 0, where a, b and c are real numbers and a ≠ 0\n",
    "    \n",
    "    \n",
    "* The solutions of this quadratic equation is given by:   (-b ±  (b ** 2 - 4 * a * c) ** 0.5)  / (2 * a)"
   ]
  },
  {
   "cell_type": "code",
   "execution_count": 19,
   "id": "919d9c59",
   "metadata": {},
   "outputs": [
    {
     "name": "stdout",
     "output_type": "stream",
     "text": [
      "Enter a = 1\n",
      "Enter b = 2\n",
      "Enter c = 3\n",
      "The solution are (-1-1.4142135623730951j) and (-1+1.4142135623730951j)\n"
     ]
    }
   ],
   "source": [
    "# Solve the quadratic equation ax**2 + bx + c = 0\n",
    "\n",
    "# import complex math module\n",
    "import cmath\n",
    "\n",
    "a = int(input(\"Enter a = \"))\n",
    "b = int(input(\"Enter b = \"))\n",
    "c = int(input(\"Enter c = \"))\n",
    "\n",
    "\n",
    "# calculate the discriminant\n",
    "d = (b**2) - (4*a*c)\n",
    "\n",
    "# find two solutions\n",
    "sol1 = (-b-cmath.sqrt(d))/(2*a)\n",
    "sol2 = (-b+cmath.sqrt(d))/(2*a)\n",
    "\n",
    "print('The solution are {0} and {1}'.format(sol1,sol2))"
   ]
  },
  {
   "cell_type": "markdown",
   "id": "d6574808",
   "metadata": {},
   "source": [
    "### 5.\tWrite a Python program to swap two variables without temp variable?"
   ]
  },
  {
   "cell_type": "code",
   "execution_count": 20,
   "id": "a6d96e95",
   "metadata": {},
   "outputs": [
    {
     "name": "stdout",
     "output_type": "stream",
     "text": [
      "Enter a = 1\n",
      "Enter b = 6\n",
      "Before swapping: \n",
      "Value of a :  1  and b :  6\n",
      "After swapping: \n",
      "Value of a :  6  and b :  1\n"
     ]
    }
   ],
   "source": [
    "# Method 1: Using simple built-in method \n",
    "\n",
    "a = int(input(\"Enter a = \"))\n",
    "b = int(input(\"Enter b = \"))\n",
    "\n",
    "print (\"Before swapping: \")\n",
    "print(\"Value of a : \", a, \" and b : \", b)\n",
    " \n",
    "# code to swap 'a' and 'b'\n",
    "a, b = b, a\n",
    " \n",
    "print (\"After swapping: \")\n",
    "print(\"Value of a : \", a, \" and b : \", b)"
   ]
  },
  {
   "cell_type": "code",
   "execution_count": 22,
   "id": "2bda8ddf",
   "metadata": {},
   "outputs": [
    {
     "name": "stdout",
     "output_type": "stream",
     "text": [
      "Enter a = 1\n",
      "Enter b = 2\n",
      "Before swapping: \n",
      "Value of a :  1  and b :  2\n",
      "After swapping: \n",
      "Value of a :  2  and b :  1\n"
     ]
    }
   ],
   "source": [
    "#Method 2: Using Bitwise XOR operator \n",
    "\n",
    "\"\"\"\n",
    "This method only works for integers and works faster because this method uses bit operation\n",
    "(for same values, output = 0 and for different values, output = 1) .\n",
    "\n",
    "\"\"\"\n",
    "a = int(input(\"Enter a = \"))\n",
    "b = int(input(\"Enter b = \"))\n",
    "\n",
    "print (\"Before swapping: \")\n",
    "print(\"Value of a : \", a, \" and b : \", b)\n",
    " \n",
    "# Swap code\n",
    "a ^= b \n",
    "b ^= a\n",
    "a ^= b \n",
    " \n",
    "print (\"After swapping: \")\n",
    "print(\"Value of a : \", a, \" and b : \", b)"
   ]
  },
  {
   "cell_type": "code",
   "execution_count": 24,
   "id": "96165342",
   "metadata": {},
   "outputs": [
    {
     "name": "stdout",
     "output_type": "stream",
     "text": [
      "Enter a = 2\n",
      "Enter b = 3\n",
      "Before swapping: \n",
      "Value of a :  2  and b :  3\n",
      "After swapping: \n",
      "Value of a :  3  and b :  2\n"
     ]
    }
   ],
   "source": [
    "# Method 3 :- Using Addition and Subtraction Operators \n",
    "\n",
    "a = int(input(\"Enter a = \"))\n",
    "b = int(input(\"Enter b = \"))\n",
    "\n",
    "print (\"Before swapping: \")\n",
    "print(\"Value of a : \", a, \" and b : \", b)\n",
    "\n",
    "# Swap code\n",
    "a = a + b \n",
    "b = a - b \n",
    "a = a - b \n",
    "\n",
    "print (\"After swapping: \")\n",
    "print(\"Value of a : \", a, \" and b : \", b)"
   ]
  },
  {
   "cell_type": "code",
   "execution_count": null,
   "id": "c1ea2df5",
   "metadata": {},
   "outputs": [],
   "source": []
  }
 ],
 "metadata": {
  "kernelspec": {
   "display_name": "Python 3 (ipykernel)",
   "language": "python",
   "name": "python3"
  },
  "language_info": {
   "codemirror_mode": {
    "name": "ipython",
    "version": 3
   },
   "file_extension": ".py",
   "mimetype": "text/x-python",
   "name": "python",
   "nbconvert_exporter": "python",
   "pygments_lexer": "ipython3",
   "version": "3.9.7"
  }
 },
 "nbformat": 4,
 "nbformat_minor": 5
}
