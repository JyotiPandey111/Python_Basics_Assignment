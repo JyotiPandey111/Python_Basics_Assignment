{
 "cells": [
  {
   "cell_type": "markdown",
   "id": "984b4513",
   "metadata": {},
   "source": [
    "# Assignment 21 Solutions"
   ]
  },
  {
   "cell_type": "markdown",
   "id": "4fe8b19e",
   "metadata": {},
   "source": [
    "#### 1. Add the current date to the text file today.txt as a string."
   ]
  },
  {
   "cell_type": "code",
   "execution_count": 1,
   "id": "4c5ad5ac",
   "metadata": {},
   "outputs": [
    {
     "name": "stdout",
     "output_type": "stream",
     "text": [
      "14-12-2023\n"
     ]
    }
   ],
   "source": [
    "import datetime\n",
    "# Code to Add current date to the today.txt file\n",
    "file = open('today.txt','w')\n",
    "file.write(datetime.datetime.now().strftime(\"%d-%m-%Y\"))\n",
    "file.close()\n",
    "# Code to Read current date from today.txt file\n",
    "file = open('today.txt','r')\n",
    "print(file.read())\n",
    "file.close()"
   ]
  },
  {
   "cell_type": "markdown",
   "id": "6cf23762",
   "metadata": {},
   "source": [
    "#### 2. Read the text file today.txt into the string today_string"
   ]
  },
  {
   "cell_type": "code",
   "execution_count": 2,
   "id": "107143ea",
   "metadata": {},
   "outputs": [
    {
     "name": "stdout",
     "output_type": "stream",
     "text": [
      "14-12-2023\n"
     ]
    }
   ],
   "source": [
    "file = open('today.txt','r')\n",
    "today_string = file.read()\n",
    "print(today_string)"
   ]
  },
  {
   "cell_type": "markdown",
   "id": "165addb6",
   "metadata": {},
   "source": [
    "#### 3. Parse the date from today_string."
   ]
  },
  {
   "cell_type": "code",
   "execution_count": 3,
   "id": "c622da5b",
   "metadata": {},
   "outputs": [
    {
     "name": "stdout",
     "output_type": "stream",
     "text": [
      "2023-12-14 00:00:00\n"
     ]
    }
   ],
   "source": [
    "from datetime import datetime\n",
    "parsed_data = datetime.strptime(today_string, '%d-%m-%Y')\n",
    "print(parsed_data)"
   ]
  },
  {
   "cell_type": "markdown",
   "id": "664d3278",
   "metadata": {},
   "source": [
    "#### 4. List the files in your current directory"
   ]
  },
  {
   "cell_type": "code",
   "execution_count": 4,
   "id": "cbacd0e4",
   "metadata": {},
   "outputs": [
    {
     "name": "stdout",
     "output_type": "stream",
     "text": [
      "Assignement_15.ipynb\n",
      "Assignment_1.ipynb\n",
      "Assignment_10.ipynb\n",
      "Assignment_11.ipynb\n",
      "Assignment_12.ipynb\n",
      "Assignment_13.ipynb\n",
      "Assignment_14.ipynb\n",
      "Assignment_16.ipynb\n",
      "Assignment_17.ipynb\n",
      "Assignment_18.ipynb\n",
      "Assignment_19.ipynb\n",
      "Assignment_2.ipynb\n",
      "Assignment_20.ipynb\n",
      "Assignment_21.ipynb\n",
      "Assignment_3.ipynb\n",
      "Assignment_4.ipynb\n",
      "Assignment_5.ipynb\n",
      "Assignment_6.ipynb\n",
      "Assignment_8.ipynb\n",
      "Assignment_9.ipynb\n",
      "Assignmnet_7.ipynb\n",
      "books.csv\n",
      "books.db\n",
      "File Handling in Python lecs102.pdf\n",
      "image.png\n",
      "Modified_img.jpg\n",
      "Programimg Assignment 11.ipynb\n",
      "Programming Assignment 09.ipynb\n",
      "Programming Assignment 10.ipynb\n",
      "Programming Assignment 4.ipynb\n",
      "Programming Assignment 6.ipynb\n",
      "Programming Assignment 7.ipynb\n",
      "Programming Assignment 8.ipynb\n",
      "Programming Assignment_3.ipynb\n",
      "Programming_Assignment_01.ipynb\n",
      "Programming_Assignment_02.ipynb\n",
      "Programming_Assingment 5.ipynb\n",
      "README.md\n",
      "test.txt\n",
      "today.txt\n",
      "zoo.py\n",
      "COMMIT_EDITMSG\n",
      "config\n",
      "description\n",
      "FETCH_HEAD\n",
      "HEAD\n",
      "index\n",
      "ORIG_HEAD\n",
      "packed-refs\n",
      "applypatch-msg.sample\n",
      "commit-msg.sample\n",
      "fsmonitor-watchman.sample\n",
      "post-update.sample\n",
      "pre-applypatch.sample\n",
      "pre-commit.sample\n",
      "pre-merge-commit.sample\n",
      "pre-push.sample\n",
      "pre-rebase.sample\n",
      "pre-receive.sample\n",
      "prepare-commit-msg.sample\n",
      "push-to-checkout.sample\n",
      "update.sample\n",
      "exclude\n",
      "HEAD\n",
      "main\n",
      "HEAD\n",
      "main\n",
      "f9f4d3a33de1b8bad7d196f837cb3a47e24b13\n",
      "1bc7de0311a41718033c68037ce26aab1d290c\n",
      "d967c40a904a8330687cd8ccd40073bd6c431b\n",
      "e063a4ab1c68e4b92e6de8e9cc8347dc0f7a99\n",
      "7e71a2d0eb914f4d7d0d8055aa17ec9c20b285\n",
      "1322bcbea2f14f9e1110f7564b394de58c77c2\n",
      "1cb619980ae7d9729846a53061f26500aead7f\n",
      "96225da766aae689eecba819cab631f56e6457\n",
      "cf8f7038a4b4a9d7393af654a0e77146ec1efa\n",
      "3b651d07c658779bf336de468ef5e8e3cef9fc\n",
      "d156fbef4e03dad65eeeca1a77403fede6cc53\n",
      "d2957bd2d7271933fcdd6bd4019bd454e2a1cd\n",
      "225beec0b79d112e0334197db4fca602e4229d\n",
      "6081617d1eda901a03c3b17e1d89566eea3a10\n",
      "9221a65a412d15048985f6d02639f283068fce\n",
      "e1b626adc5c9723e6a241ea63f16214fae61fc\n",
      "ccf951918c01ed8c83809012262313cc6be5be\n",
      "8fec2fe2b577074c0753028b83cc02b62efe6c\n",
      "9bb50b20338fd2a3a5b0090a8313b18852bbae\n",
      "d4b52f9f4b94867edcce26c18dd4add40a698f\n",
      "67c39973ad5a95cf8047d323ab0c8ce1a94e85\n",
      "037f3e5cf444b2afbe48cae2aa49e9bfc50ecb\n",
      "1fdbdc9431ac2dc0ffec0e5c4c8035384fd86b\n",
      "7202a374f8796e70f3cb6d75ef2c0ac0fde067\n",
      "06948857d1d2d5906ed4a49e60d2d99f132816\n",
      "8452b2f79c24b1a595a21259cfadc6d28de493\n",
      "6053a11e32b8b5ecba577388616e0058e6d1a4\n",
      "9f60fd7fe6763d5e42b8d9735facba95075e74\n",
      "dacf099b7dded7da511d87df7cf5b9a972c0dc\n",
      "594b6bcd2b2aea5c88739ef071f183afdb93f9\n",
      "b445d6e8d464d86deac6373cf7b00a425f5320\n",
      "890a55ac7a66948ff389fbbecf52ab7d23d2e1\n",
      "22aed02f12a2e0c13c29ac30c12fe4204803cb\n",
      "9d7333ed40fbb381afb578f75be97ee8833a90\n",
      "c6503689006201867cf34c442915b3703ac237\n",
      "476d61bf97a8d098ebab1eeabd654b08d6765d\n",
      "488fb72ccd74c6d76e05a25f4dd3a575c8350c\n",
      "4c47e4c577c092c3169abefee514ea99ea8d35\n",
      "4e90b519b1f5e039352ab6c8d20f43e5530636\n",
      "5436fda7d5850e451c3ca83a1224ea28414098\n",
      "bc7a3e727cbcd3f000efd655dbe562958f6fa7\n",
      "cb018fabc1103823eeedd2d3200eddaf8c5547\n",
      "be8f035954ea4efa984a2293189e91fa3917df\n",
      "040ee89b7f2857cbc4adb5fe49c06d45a37af2\n",
      "23c0c24e388a6cef823afa1bc3e071d7adf6ce\n",
      "c141603bcf159079e95d7d0c8f44234468a7a1\n",
      "97dd9d81d432fe7468d4616ec7cb78ea8c24dd\n",
      "3381ed6b9b8a70e3e9903d0bf4174c7747c47f\n",
      "6bc8d6ea891c6b118db64112f48f4a16f431de\n",
      "de15948aeb14915d97cb22da8fe2438a60e858\n",
      "db198ebaa66e94bad8ff55ab077ee8b46a4e1d\n",
      "be02aded4f0d38e96299e0032ac5bead6e6a9e\n",
      "17616386814edb9442f70cfd19ad4d166ab710\n",
      "178cc1336b948e8a67f2fb0ac917adb1bf812a\n",
      "19d8a78c57352bc098efc8ba52e2702d7ce07b\n",
      "649012289871b0f46934d9ec2481de71cf9d8c\n",
      "466a38b47e535cd72c9b3919942192bca55186\n",
      "e05dc6e4d29814576d86a9cd0f7bad78ebcaa2\n",
      "eed34d324e50d2e0278353cdfefad0b6a630d1\n",
      "f6342e5784d416a71d89435dc4402d06d86a96\n",
      "3ba02ee56381e0f5d0a156655030268b58a92e\n",
      "8648eb3588ba087b6450815912e58abfd4b626\n",
      "9028ae281bad94c99ab635d15b008aee54b404\n",
      "36d117f2f3a1250ef998d7da7d72144119b54e\n",
      "fcf51b78d235223896df6f882af5ed68f82cc1\n",
      "083ae4482c16bb6bbbccb47b24b2b69c043c7d\n",
      "ad4163c573a6d0914fcc1571083793a85b977c\n",
      "713e0eded4c2381e4ea5b56396ad7ac64854cb\n",
      "9de29bb2d1d6434b8b29ae775ad8c2e48c5391\n",
      "0749de539c1b04eda965beab4b32109e1ea0ce\n",
      "e063b0bc46b992af584d462fc2d8f47fb4b91e\n",
      "74a7e93c935deba16e5bf1308143aa9018fe8b\n",
      "a682563ec1d0e43aeaa7e8845670490b28517b\n",
      "cfa350e10f81c41ea75919ab2e32acd36d2916\n",
      "2147ec1abca1e6b80e96bb13a2e9083892b68e\n",
      "01fc2fd74a28869c64e8a1f8bf19855ea1fa13\n",
      "6ee19358d0851542b6c651abf1d808a69fd618\n",
      "5f0ff58870b3c4021e2f42fb8e2552090836d3\n",
      "b466e4df73a43a5b661dda6b9921e767ab0509\n",
      "fc511ea7a061278d7764db88a8eb3e39482552\n",
      "pack-fb5aebe3d629e9d17c3a61772877369be8d07661.idx\n",
      "pack-fb5aebe3d629e9d17c3a61772877369be8d07661.pack\n",
      "main\n",
      "HEAD\n",
      "main\n",
      "Assignmnet_7.ipynb\n",
      "zoo.cpython-39.pyc\n"
     ]
    }
   ],
   "source": [
    "import os\n",
    "for folders, subfolders, files in os.walk(os.getcwd()):\n",
    "    for file in files:\n",
    "        print(file)"
   ]
  },
  {
   "cell_type": "markdown",
   "id": "291a203b",
   "metadata": {},
   "source": [
    "#### 5. Create a list of all of the files in your parent directory (minimum five files should be available)."
   ]
  },
  {
   "cell_type": "code",
   "execution_count": 5,
   "id": "efe9618b",
   "metadata": {},
   "outputs": [
    {
     "data": {
      "text/plain": [
       "['.git',\n",
       " 'Assignement_15.ipynb',\n",
       " 'Assignment_1.ipynb',\n",
       " 'Assignment_10.ipynb',\n",
       " 'Assignment_11.ipynb',\n",
       " 'Assignment_12.ipynb',\n",
       " 'Assignment_13.ipynb',\n",
       " 'Assignment_14.ipynb',\n",
       " 'Assignment_16.ipynb',\n",
       " 'Assignment_17.ipynb',\n",
       " 'Assignment_18.ipynb',\n",
       " 'Assignment_19.ipynb',\n",
       " 'Assignment_2.ipynb',\n",
       " 'Assignment_20.ipynb',\n",
       " 'Assignment_21.ipynb',\n",
       " 'Assignment_3.ipynb',\n",
       " 'Assignment_4.ipynb',\n",
       " 'Assignment_5.ipynb',\n",
       " 'Assignment_6.ipynb',\n",
       " 'Assignment_8.ipynb',\n",
       " 'Assignment_9.ipynb',\n",
       " 'Assignmnet_7.ipynb',\n",
       " 'books.csv',\n",
       " 'books.db',\n",
       " 'File Handling in Python lecs102.pdf',\n",
       " 'image.png',\n",
       " 'Modified_img.jpg',\n",
       " 'Practice_Folder',\n",
       " 'Programimg Assignment 11.ipynb',\n",
       " 'Programming Assignment 09.ipynb',\n",
       " 'Programming Assignment 10.ipynb',\n",
       " 'Programming Assignment 4.ipynb',\n",
       " 'Programming Assignment 6.ipynb',\n",
       " 'Programming Assignment 7.ipynb',\n",
       " 'Programming Assignment 8.ipynb',\n",
       " 'Programming Assignment_3.ipynb',\n",
       " 'Programming_Assignment_01.ipynb',\n",
       " 'Programming_Assignment_02.ipynb',\n",
       " 'Programming_Assingment 5.ipynb',\n",
       " 'README.md',\n",
       " 'test.txt',\n",
       " 'today.txt',\n",
       " 'zoo.py',\n",
       " '__pycache__']"
      ]
     },
     "execution_count": 5,
     "metadata": {},
     "output_type": "execute_result"
    }
   ],
   "source": [
    "import os \n",
    "os.listdir()"
   ]
  },
  {
   "cell_type": "markdown",
   "id": "203dd9fe",
   "metadata": {},
   "source": [
    "#### 6. Use multiprocessing to create three separate processes. Make each one wait a random number of seconds between one and five, print the current time, and then exit."
   ]
  },
  {
   "cell_type": "code",
   "execution_count": 6,
   "id": "bcb2799b",
   "metadata": {},
   "outputs": [],
   "source": [
    "import multiprocessing\n",
    "import time \n",
    "import random\n",
    "import datetime\n",
    "\n",
    "def procOne():\n",
    "    print(f'Proc_one_Starttime -> {datetime.datetime.now()}')\n",
    "    time.sleep(random.randint(1,5))\n",
    "    print(f'Proc_one_Endtime -> {datetime.datetime.now()}')\n",
    "    \n",
    "def procTwo():\n",
    "    print(f'Proc_two_Starttime -> {datetime.datetime.now()}')\n",
    "    time.sleep(random.randint(1,5))\n",
    "    print(f'Proc_two_Endtime -> {datetime.datetime.now()}')\n",
    "\n",
    "def procThree():\n",
    "    print(f'Proc_two_Starttime -> {datetime.datetime.now()}')\n",
    "    time.sleep(random.randint(1,5))\n",
    "    print(f'Proc_two_Endtime -> {datetime.datetime.now()}')\n",
    "    \n",
    "if __name__ == \"__main__\":    \n",
    "    p1 = multiprocessing.Process(target=procOne)\n",
    "    p2 = multiprocessing.Process(target=procTwo)\n",
    "    p3 = multiprocessing.Process(target=procThree)\n",
    "\n",
    "    p1.start()\n",
    "    p2.start()\n",
    "    p3.start()\n",
    "\n",
    "    p1.join()\n",
    "    p2.join()\n",
    "    p3.join()"
   ]
  },
  {
   "cell_type": "markdown",
   "id": "710ba830-38ca-4814-a28d-a266099ff07f",
   "metadata": {},
   "source": [
    "Due to some unknown reason. the above did not print any results in the jupyter cell. so i copied the code to a python file. executed it and pasted the ouput here  \n",
    "`(base) C:\\Users\\vishnu.adepu\\Desktop>python es_poc.py`  \n",
    "`Proc_one_Starttime -> 2021-09-22 18:41:59.354061`  \n",
    "`Proc_two_Starttime -> 2021-09-22 18:41:59.363712`  \n",
    "`Proc_two_Starttime -> 2021-09-22 18:41:59.367238`  \n",
    "`Proc_two_Endtime -> 2021-09-22 18:42:04.369860`  \n",
    "`Proc_two_Endtime -> 2021-09-22 18:42:04.369860`  \n",
    "`Proc_one_Endtime -> 2021-09-22 18:42:04.369860`  "
   ]
  },
  {
   "cell_type": "markdown",
   "id": "71d07e78",
   "metadata": {},
   "source": [
    "#### 7. Create a date object of your day of birth."
   ]
  },
  {
   "cell_type": "code",
   "execution_count": 8,
   "id": "b3e67c1c",
   "metadata": {},
   "outputs": [
    {
     "name": "stdout",
     "output_type": "stream",
     "text": [
      "1993-10-03 00:00:00 <class 'datetime.datetime'>\n"
     ]
    }
   ],
   "source": [
    "from datetime import datetime\n",
    "my_dob = datetime.strptime('03/10/1993','%d/%m/%Y')\n",
    "print(my_dob, type(my_dob))"
   ]
  },
  {
   "cell_type": "markdown",
   "id": "e5775db9",
   "metadata": {},
   "source": [
    "#### 8. What day of the week was your day of birth?"
   ]
  },
  {
   "cell_type": "code",
   "execution_count": 10,
   "id": "65b6ae43",
   "metadata": {},
   "outputs": [
    {
     "data": {
      "text/plain": [
       "'Sunday'"
      ]
     },
     "execution_count": 10,
     "metadata": {},
     "output_type": "execute_result"
    }
   ],
   "source": [
    "from datetime import datetime\n",
    "my_dob = datetime(1993,10,3)\n",
    "my_dob.strftime(\"%A\")"
   ]
  },
  {
   "cell_type": "markdown",
   "id": "abe779de",
   "metadata": {},
   "source": [
    "#### 9. When will you be (or when were you) 10,000 days old?"
   ]
  },
  {
   "cell_type": "code",
   "execution_count": 11,
   "id": "db7e28a0",
   "metadata": {},
   "outputs": [
    {
     "data": {
      "text/plain": [
       "datetime.datetime(1966, 5, 18, 0, 0)"
      ]
     },
     "execution_count": 11,
     "metadata": {},
     "output_type": "execute_result"
    }
   ],
   "source": [
    "from datetime import datetime, timedelta\n",
    "my_dob = datetime.strptime(\"03/10/1993\",'%d/%m/%Y')\n",
    "future_date = my_dob-timedelta(10000)\n",
    "future_date"
   ]
  },
  {
   "cell_type": "code",
   "execution_count": null,
   "id": "82b64caf",
   "metadata": {},
   "outputs": [],
   "source": []
  }
 ],
 "metadata": {
  "kernelspec": {
   "display_name": "Python 3",
   "language": "python",
   "name": "python3"
  },
  "language_info": {
   "codemirror_mode": {
    "name": "ipython",
    "version": 3
   },
   "file_extension": ".py",
   "mimetype": "text/x-python",
   "name": "python",
   "nbconvert_exporter": "python",
   "pygments_lexer": "ipython3",
   "version": "3.9.12"
  }
 },
 "nbformat": 4,
 "nbformat_minor": 5
}
